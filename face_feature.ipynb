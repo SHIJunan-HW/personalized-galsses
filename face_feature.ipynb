{
 "cells": [
  {
   "cell_type": "code",
   "execution_count": 1,
   "id": "ecdee528-b1d7-4643-bb3d-5c0a010a78fd",
   "metadata": {},
   "outputs": [
    {
     "name": "stdout",
     "output_type": "stream",
     "text": [
      "眼睛间距: 37.55 像素, 眼睛间距与脸宽比值: 0.41\n",
      "眼睛高度: 6.00 像素, 眼睛高度与眼睛间距比值: 0.16\n",
      "鼻梁宽度: 20.10 像素, 鼻梁宽度与脸宽比值: 0.22\n",
      "下巴高度: 46.00 像素, 下巴高度与鼻梁高度比值: 1.48\n",
      "面部高度: 77.00 像素, 面部宽高比: 0.84\n"
     ]
    }
   ],
   "source": [
    "import dlib\n",
    "import cv2\n",
    "import numpy as np\n",
    "\n",
    "# 设置正确的形状预测器文件路径\n",
    "predictor_path = r\"C:\\Users\\34568\\Desktop\\GlassesGAN\\GlassesGAN_release\\encoder4editing\\shape_predictor_68_face_landmarks.dat\"\n",
    "\n",
    "# 加载人脸检测器和形状预测器\n",
    "detector = dlib.get_frontal_face_detector()\n",
    "predictor = dlib.shape_predictor(predictor_path)\n",
    "\n",
    "# 加载图像\n",
    "image_path = r\"C:\\Users\\34568\\Desktop\\GlassesGAN\\GlassesGAN_release\\imgtest\\01.jpg\"  # 替换为你的图片路径\n",
    "image = cv2.imread(image_path)\n",
    "gray = cv2.cvtColor(image, cv2.COLOR_BGR2GRAY)\n",
    "\n",
    "# 检测人脸\n",
    "faces = detector(gray)\n",
    "\n",
    "# 提取量化参数\n",
    "for face in faces:\n",
    "    # 获取面部关键点\n",
    "    landmarks = predictor(gray, face)\n",
    "    \n",
    "    # 眼睛中心点\n",
    "    left_eye_center = (landmarks.part(36).x + landmarks.part(39).x) / 2, (landmarks.part(36).y + landmarks.part(39).y) / 2\n",
    "    right_eye_center = (landmarks.part(42).x + landmarks.part(45).x) / 2, (landmarks.part(42).y + landmarks.part(45).y) / 2\n",
    "    \n",
    "    # 眼睛间距\n",
    "    eye_distance = np.linalg.norm(np.array(left_eye_center) - np.array(right_eye_center))  # 眼睛间距\n",
    "    \n",
    "    # 脸宽\n",
    "    left_cheek = (landmarks.part(0).x, landmarks.part(0).y)\n",
    "    right_cheek = (landmarks.part(16).x, landmarks.part(16).y)\n",
    "    face_width = np.linalg.norm(np.array(left_cheek) - np.array(right_cheek))  # 脸宽\n",
    "    \n",
    "    # 眼睛高度（垂直方向）\n",
    "    eye_height = np.abs(landmarks.part(37).y - landmarks.part(41).y)  # 左眼上下高度差\n",
    "    \n",
    "    # 鼻梁宽度和高度\n",
    "    nose_width = np.linalg.norm(np.array((landmarks.part(31).x, landmarks.part(31).y)) - np.array((landmarks.part(35).x, landmarks.part(35).y)))  # 鼻梁宽度\n",
    "    nose_height = np.abs(landmarks.part(27).y - landmarks.part(33).y)  # 鼻梁高度\n",
    "    \n",
    "    # 下巴高度\n",
    "    chin_height = np.abs(landmarks.part(8).y - landmarks.part(33).y)  # 下巴高度（从下巴到鼻尖）\n",
    "    \n",
    "    # 面部高度\n",
    "    face_height = np.abs(landmarks.part(27).y - landmarks.part(8).y)  # 从鼻梁到下巴的高度\n",
    "    \n",
    "    # 计算比值\n",
    "    eye_distance_ratio = eye_distance / face_width  # 眼睛间距与脸宽比值\n",
    "    eye_height_ratio = eye_height / eye_distance  # 眼睛上下高度与眼睛间距比值\n",
    "    nose_width_ratio = nose_width / face_width  # 鼻梁宽度与脸宽比值\n",
    "    face_ratio = face_height / face_width  # 脸型的宽高比\n",
    "    chin_to_nose_ratio = chin_height / nose_height  # 下巴高度与鼻梁高度比值\n",
    "    \n",
    "    # 输出量化参数\n",
    "    print(f\"眼睛间距: {eye_distance:.2f} 像素, 眼睛间距与脸宽比值: {eye_distance_ratio:.2f}\")\n",
    "    print(f\"眼睛高度: {eye_height:.2f} 像素, 眼睛高度与眼睛间距比值: {eye_height_ratio:.2f}\")\n",
    "    print(f\"鼻梁宽度: {nose_width:.2f} 像素, 鼻梁宽度与脸宽比值: {nose_width_ratio:.2f}\")\n",
    "    print(f\"下巴高度: {chin_height:.2f} 像素, 下巴高度与鼻梁高度比值: {chin_to_nose_ratio:.2f}\")\n",
    "    print(f\"面部高度: {face_height:.2f} 像素, 面部宽高比: {face_ratio:.2f}\")\n",
    "    "
   ]
  },
  {
   "cell_type": "code",
   "execution_count": null,
   "id": "fb865933-0654-4ab1-af13-a717a8e4e3e5",
   "metadata": {},
   "outputs": [],
   "source": []
  }
 ],
 "metadata": {
  "kernelspec": {
   "display_name": "pytorch-gpu",
   "language": "python",
   "name": "pytorch-gpu"
  },
  "language_info": {
   "codemirror_mode": {
    "name": "ipython",
    "version": 3
   },
   "file_extension": ".py",
   "mimetype": "text/x-python",
   "name": "python",
   "nbconvert_exporter": "python",
   "pygments_lexer": "ipython3",
   "version": "3.9.21"
  }
 },
 "nbformat": 4,
 "nbformat_minor": 5
}
