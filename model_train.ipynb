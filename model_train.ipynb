{
 "cells": [
  {
   "cell_type": "code",
   "execution_count": 1,
   "id": "3afbe866-692e-4989-a46e-44cab6774aac",
   "metadata": {},
   "outputs": [
    {
     "data": {
      "text/html": [
       "<div>\n",
       "<style scoped>\n",
       "    .dataframe tbody tr th:only-of-type {\n",
       "        vertical-align: middle;\n",
       "    }\n",
       "\n",
       "    .dataframe tbody tr th {\n",
       "        vertical-align: top;\n",
       "    }\n",
       "\n",
       "    .dataframe thead th {\n",
       "        text-align: right;\n",
       "    }\n",
       "</style>\n",
       "<table border=\"1\" class=\"dataframe\">\n",
       "  <thead>\n",
       "    <tr style=\"text-align: right;\">\n",
       "      <th></th>\n",
       "      <th>filename</th>\n",
       "      <th>eye_distance_ratio</th>\n",
       "      <th>eye_height_ratio</th>\n",
       "      <th>nose_width_ratio</th>\n",
       "      <th>face_ratio</th>\n",
       "      <th>chin_to_nose_ratio</th>\n",
       "      <th>style_name</th>\n",
       "      <th>size</th>\n",
       "      <th>height</th>\n",
       "      <th>squareness</th>\n",
       "      <th>round_shrink</th>\n",
       "      <th>cateye</th>\n",
       "      <th>thicken</th>\n",
       "    </tr>\n",
       "  </thead>\n",
       "  <tbody>\n",
       "    <tr>\n",
       "      <th>0</th>\n",
       "      <td>glasses_7.png</td>\n",
       "      <td>0.408164</td>\n",
       "      <td>0.159773</td>\n",
       "      <td>0.218463</td>\n",
       "      <td>0.836907</td>\n",
       "      <td>1.483871</td>\n",
       "      <td>vintage_metal</td>\n",
       "      <td>5.5</td>\n",
       "      <td>-8.0</td>\n",
       "      <td>6.0</td>\n",
       "      <td>5.0</td>\n",
       "      <td>-6.0</td>\n",
       "      <td>-2.0</td>\n",
       "    </tr>\n",
       "    <tr>\n",
       "      <th>1</th>\n",
       "      <td>glasses_8.png</td>\n",
       "      <td>0.472810</td>\n",
       "      <td>0.153834</td>\n",
       "      <td>0.194336</td>\n",
       "      <td>0.836440</td>\n",
       "      <td>1.156250</td>\n",
       "      <td>elegant_small_round</td>\n",
       "      <td>3.5</td>\n",
       "      <td>-7.0</td>\n",
       "      <td>1.0</td>\n",
       "      <td>8.0</td>\n",
       "      <td>5.0</td>\n",
       "      <td>1.5</td>\n",
       "    </tr>\n",
       "    <tr>\n",
       "      <th>2</th>\n",
       "      <td>glasses_3.png</td>\n",
       "      <td>0.431744</td>\n",
       "      <td>0.105254</td>\n",
       "      <td>0.216152</td>\n",
       "      <td>0.863413</td>\n",
       "      <td>1.451613</td>\n",
       "      <td>cat_eye</td>\n",
       "      <td>7.0</td>\n",
       "      <td>-5.0</td>\n",
       "      <td>8.0</td>\n",
       "      <td>2.0</td>\n",
       "      <td>12.0</td>\n",
       "      <td>-1.5</td>\n",
       "    </tr>\n",
       "    <tr>\n",
       "      <th>3</th>\n",
       "      <td>glasses_12.png</td>\n",
       "      <td>0.410714</td>\n",
       "      <td>0.115942</td>\n",
       "      <td>0.214286</td>\n",
       "      <td>0.916667</td>\n",
       "      <td>1.333333</td>\n",
       "      <td>unique_shape</td>\n",
       "      <td>4.5</td>\n",
       "      <td>-9.5</td>\n",
       "      <td>7.0</td>\n",
       "      <td>-5.0</td>\n",
       "      <td>-10.0</td>\n",
       "      <td>2.5</td>\n",
       "    </tr>\n",
       "    <tr>\n",
       "      <th>4</th>\n",
       "      <td>glasses_4.png</td>\n",
       "      <td>0.440485</td>\n",
       "      <td>0.162147</td>\n",
       "      <td>0.154751</td>\n",
       "      <td>0.845178</td>\n",
       "      <td>1.535714</td>\n",
       "      <td>modern_large</td>\n",
       "      <td>8.0</td>\n",
       "      <td>-9.0</td>\n",
       "      <td>15.0</td>\n",
       "      <td>-2.0</td>\n",
       "      <td>-3.0</td>\n",
       "      <td>4.0</td>\n",
       "    </tr>\n",
       "  </tbody>\n",
       "</table>\n",
       "</div>"
      ],
      "text/plain": [
       "         filename  eye_distance_ratio  eye_height_ratio  nose_width_ratio  \\\n",
       "0   glasses_7.png            0.408164          0.159773          0.218463   \n",
       "1   glasses_8.png            0.472810          0.153834          0.194336   \n",
       "2   glasses_3.png            0.431744          0.105254          0.216152   \n",
       "3  glasses_12.png            0.410714          0.115942          0.214286   \n",
       "4   glasses_4.png            0.440485          0.162147          0.154751   \n",
       "\n",
       "   face_ratio  chin_to_nose_ratio           style_name  size  height  \\\n",
       "0    0.836907            1.483871        vintage_metal   5.5    -8.0   \n",
       "1    0.836440            1.156250  elegant_small_round   3.5    -7.0   \n",
       "2    0.863413            1.451613              cat_eye   7.0    -5.0   \n",
       "3    0.916667            1.333333         unique_shape   4.5    -9.5   \n",
       "4    0.845178            1.535714         modern_large   8.0    -9.0   \n",
       "\n",
       "   squareness  round_shrink  cateye  thicken  \n",
       "0         6.0           5.0    -6.0     -2.0  \n",
       "1         1.0           8.0     5.0      1.5  \n",
       "2         8.0           2.0    12.0     -1.5  \n",
       "3         7.0          -5.0   -10.0      2.5  \n",
       "4        15.0          -2.0    -3.0      4.0  "
      ]
     },
     "execution_count": 1,
     "metadata": {},
     "output_type": "execute_result"
    }
   ],
   "source": [
    "import pandas as pd\n",
    "\n",
    "# 读取CSV文件\n",
    "df = pd.read_csv(r\"C:\\Users\\34568\\Desktop\\GlassesGAN\\glasses_styles.csv\")\n",
    "df.head()"
   ]
  },
  {
   "cell_type": "code",
   "execution_count": 4,
   "id": "fcc4f285-57cc-4dc0-aa84-6da0e946ce5a",
   "metadata": {},
   "outputs": [
    {
     "data": {
      "text/plain": [
       "DecisionTreeClassifier(random_state=42)"
      ]
     },
     "execution_count": 4,
     "metadata": {},
     "output_type": "execute_result"
    }
   ],
   "source": [
    "from sklearn.tree import DecisionTreeClassifier\n",
    "from sklearn.preprocessing import LabelEncoder\n",
    "import pandas as pd\n",
    "from sklearn.model_selection import train_test_split\n",
    "from sklearn.tree import DecisionTreeClassifier\n",
    "from sklearn.metrics import classification_report, accuracy_score\n",
    "\n",
    "X = df[['eye_distance_ratio', 'eye_height_ratio', 'nose_width_ratio',\n",
    "        'face_ratio', 'chin_to_nose_ratio']]\n",
    "y = df['style_name']\n",
    "# 构建并训练决策树模型\n",
    "model = DecisionTreeClassifier(random_state=42)\n",
    "model.fit(X, y)"
   ]
  },
  {
   "cell_type": "code",
   "execution_count": 8,
   "id": "d46b4784-ffda-4163-b487-baf026db3591",
   "metadata": {},
   "outputs": [
    {
     "data": {
      "text/plain": [
       "'cat_eye'"
      ]
     },
     "execution_count": 8,
     "metadata": {},
     "output_type": "execute_result"
    }
   ],
   "source": [
    "new_data_df = pd.DataFrame([[0.43, 0.15, 0.21, 0.85, 1.4]], \n",
    "                           columns=['eye_distance_ratio', 'eye_height_ratio', 'nose_width_ratio', 'face_ratio', 'chin_to_nose_ratio'])\n",
    "predicted = model.predict(new_data_df)\n",
    "predicted[0]"
   ]
  },
  {
   "cell_type": "code",
   "execution_count": 9,
   "id": "7e063958-f416-4d7c-a534-c5c790af6b7b",
   "metadata": {},
   "outputs": [
    {
     "name": "stdout",
     "output_type": "stream",
     "text": [
      "模型已保存为 decision_tree_model.joblib\n"
     ]
    }
   ],
   "source": [
    "from joblib import dump\n",
    "\n",
    "# 假设你的模型变量名为 model\n",
    "dump(model, 'decision_tree_model.joblib')\n",
    "print(\"模型已保存为 decision_tree_model.joblib\")"
   ]
  }
 ],
 "metadata": {
  "kernelspec": {
   "display_name": "Python 3 (ipykernel)",
   "language": "python",
   "name": "python3"
  },
  "language_info": {
   "codemirror_mode": {
    "name": "ipython",
    "version": 3
   },
   "file_extension": ".py",
   "mimetype": "text/x-python",
   "name": "python",
   "nbconvert_exporter": "python",
   "pygments_lexer": "ipython3",
   "version": "3.9.21"
  }
 },
 "nbformat": 4,
 "nbformat_minor": 5
}
